{
 "cells": [
  {
   "cell_type": "code",
   "execution_count": 1,
   "metadata": {},
   "outputs": [],
   "source": [
    "#imoport libraries\n",
    "import pandas as pd\n",
    "import numpy as np\n",
    "from sklearn.preprocessing import OneHotEncoder,StandardScaler\n",
    "from sklearn.pipeline import Pipeline\n",
    "from sklearn.metrics import mean_squared_error,mean_absolute_error,r2_score\n",
    "from sklearn.linear_model import LinearRegression,Lasso,Ridge\n",
    "from sklearn.ensemble import RandomForestRegressor,AdaBoostRegressor\n",
    "from sklearn.tree import DecisionTreeRegressor\n",
    "from sklearn.neighbors import KNeighborsRegressor\n",
    "from xgboost import XGBRegressor\n",
    "import matplotlib.pyplot as plt\n",
    "%matplotlib inline\n",
    "from sklearn.compose import ColumnTransformer\n",
    "from sklearn.model_selection import train_test_split"
   ]
  },
  {
   "cell_type": "code",
   "execution_count": 2,
   "metadata": {},
   "outputs": [
    {
     "data": {
      "text/html": [
       "<div>\n",
       "<style scoped>\n",
       "    .dataframe tbody tr th:only-of-type {\n",
       "        vertical-align: middle;\n",
       "    }\n",
       "\n",
       "    .dataframe tbody tr th {\n",
       "        vertical-align: top;\n",
       "    }\n",
       "\n",
       "    .dataframe thead th {\n",
       "        text-align: right;\n",
       "    }\n",
       "</style>\n",
       "<table border=\"1\" class=\"dataframe\">\n",
       "  <thead>\n",
       "    <tr style=\"text-align: right;\">\n",
       "      <th></th>\n",
       "      <th>location</th>\n",
       "      <th>total_sqft</th>\n",
       "      <th>bath</th>\n",
       "      <th>balcony</th>\n",
       "      <th>price</th>\n",
       "      <th>bhk</th>\n",
       "      <th>per_squre_price</th>\n",
       "    </tr>\n",
       "  </thead>\n",
       "  <tbody>\n",
       "    <tr>\n",
       "      <th>0</th>\n",
       "      <td>Electronic City Phase II</td>\n",
       "      <td>1056.0</td>\n",
       "      <td>2.0</td>\n",
       "      <td>1.0</td>\n",
       "      <td>39.07</td>\n",
       "      <td>2</td>\n",
       "      <td>3699.810606</td>\n",
       "    </tr>\n",
       "    <tr>\n",
       "      <th>1</th>\n",
       "      <td>Chikka Tirupathi</td>\n",
       "      <td>2600.0</td>\n",
       "      <td>5.0</td>\n",
       "      <td>3.0</td>\n",
       "      <td>120.00</td>\n",
       "      <td>4</td>\n",
       "      <td>4615.384615</td>\n",
       "    </tr>\n",
       "    <tr>\n",
       "      <th>2</th>\n",
       "      <td>Uttarahalli</td>\n",
       "      <td>1440.0</td>\n",
       "      <td>2.0</td>\n",
       "      <td>3.0</td>\n",
       "      <td>62.00</td>\n",
       "      <td>3</td>\n",
       "      <td>4305.555556</td>\n",
       "    </tr>\n",
       "    <tr>\n",
       "      <th>3</th>\n",
       "      <td>Lingadheeranahalli</td>\n",
       "      <td>1521.0</td>\n",
       "      <td>3.0</td>\n",
       "      <td>1.0</td>\n",
       "      <td>95.00</td>\n",
       "      <td>3</td>\n",
       "      <td>6245.890861</td>\n",
       "    </tr>\n",
       "    <tr>\n",
       "      <th>4</th>\n",
       "      <td>Kothanur</td>\n",
       "      <td>1200.0</td>\n",
       "      <td>2.0</td>\n",
       "      <td>1.0</td>\n",
       "      <td>51.00</td>\n",
       "      <td>2</td>\n",
       "      <td>4250.000000</td>\n",
       "    </tr>\n",
       "  </tbody>\n",
       "</table>\n",
       "</div>"
      ],
      "text/plain": [
       "                   location  total_sqft  bath  balcony   price  bhk  \\\n",
       "0  Electronic City Phase II      1056.0   2.0      1.0   39.07    2   \n",
       "1          Chikka Tirupathi      2600.0   5.0      3.0  120.00    4   \n",
       "2               Uttarahalli      1440.0   2.0      3.0   62.00    3   \n",
       "3        Lingadheeranahalli      1521.0   3.0      1.0   95.00    3   \n",
       "4                  Kothanur      1200.0   2.0      1.0   51.00    2   \n",
       "\n",
       "   per_squre_price  \n",
       "0      3699.810606  \n",
       "1      4615.384615  \n",
       "2      4305.555556  \n",
       "3      6245.890861  \n",
       "4      4250.000000  "
      ]
     },
     "execution_count": 2,
     "metadata": {},
     "output_type": "execute_result"
    }
   ],
   "source": [
    "#read the data set\n",
    "df=pd.read_csv('cleaning_data.csv')\n",
    "df.head()"
   ]
  },
  {
   "cell_type": "code",
   "execution_count": 3,
   "metadata": {},
   "outputs": [],
   "source": [
    "x=df.drop('price',axis=1)"
   ]
  },
  {
   "cell_type": "code",
   "execution_count": 4,
   "metadata": {},
   "outputs": [
    {
     "data": {
      "text/plain": [
       "Index(['location', 'total_sqft', 'bath', 'balcony', 'price', 'bhk',\n",
       "       'per_squre_price'],\n",
       "      dtype='object')"
      ]
     },
     "execution_count": 4,
     "metadata": {},
     "output_type": "execute_result"
    }
   ],
   "source": [
    "df.columns"
   ]
  },
  {
   "cell_type": "code",
   "execution_count": 5,
   "metadata": {},
   "outputs": [],
   "source": [
    "y=df['price']"
   ]
  },
  {
   "cell_type": "code",
   "execution_count": 6,
   "metadata": {},
   "outputs": [
    {
     "data": {
      "text/plain": [
       "0     39.07\n",
       "1    120.00\n",
       "2     62.00\n",
       "3     95.00\n",
       "4     51.00\n",
       "Name: price, dtype: float64"
      ]
     },
     "execution_count": 6,
     "metadata": {},
     "output_type": "execute_result"
    }
   ],
   "source": [
    "y.head()"
   ]
  },
  {
   "cell_type": "code",
   "execution_count": 7,
   "metadata": {},
   "outputs": [],
   "source": [
    "num_features=x.select_dtypes(exclude='object').columns\n",
    "cat_features=x.select_dtypes(include='object').columns\n",
    "\n",
    "newtansform=OneHotEncoder()\n",
    "ohtransform=StandardScaler()\n",
    "\n",
    "processor=ColumnTransformer(\n",
    "[\n",
    "    (\"OneHotEncoder\",newtansform,cat_features),\n",
    "    (\"StandardScaler\",ohtransform,num_features)\n",
    "    ]\n",
    ")"
   ]
  },
  {
   "cell_type": "code",
   "execution_count": 8,
   "metadata": {},
   "outputs": [],
   "source": [
    "x=processor.fit_transform(x)"
   ]
  },
  {
   "cell_type": "code",
   "execution_count": 9,
   "metadata": {},
   "outputs": [],
   "source": [
    "x_train,x_test,y_train,y_test=train_test_split(x,y,test_size=0.2,random_state=42)"
   ]
  },
  {
   "cell_type": "code",
   "execution_count": 10,
   "metadata": {},
   "outputs": [
    {
     "data": {
      "text/plain": [
       "(2437, 1270)"
      ]
     },
     "execution_count": 10,
     "metadata": {},
     "output_type": "execute_result"
    }
   ],
   "source": [
    "x_test.shape"
   ]
  },
  {
   "cell_type": "code",
   "execution_count": 11,
   "metadata": {},
   "outputs": [
    {
     "data": {
      "text/plain": [
       "(9748, 1270)"
      ]
     },
     "execution_count": 11,
     "metadata": {},
     "output_type": "execute_result"
    }
   ],
   "source": [
    "x_train.shape"
   ]
  },
  {
   "cell_type": "code",
   "execution_count": 12,
   "metadata": {},
   "outputs": [],
   "source": [
    "def evauate(true,predicted):\n",
    "    mse = mean_squared_error(true,predicted)\n",
    "    mae= mean_absolute_error(true,predicted)\n",
    "    r2_scor= r2_score(true,predicted)\n",
    "    return mse,mae,r2_scor"
   ]
  },
  {
   "cell_type": "code",
   "execution_count": 13,
   "metadata": {},
   "outputs": [
    {
     "name": "stdout",
     "output_type": "stream",
     "text": [
      "Model: LinearRegression\n",
      "\n",
      "The performance of the training data:\n",
      "\n",
      "Mean squared error: 6607.742739127861\n",
      "Mean absolute error: 31.63270639749799\n",
      "R2: 0.6390451089208133\n",
      "\n",
      "The performance of the test data:\n",
      "\n",
      "Mean squared error: 11222.039911740012\n",
      "Mean absolute error: 40.425276040959524\n",
      "R2: 0.32285125120363856\n",
      "----------------------------------------------------\n",
      "Model: Lasso\n",
      "\n",
      "The performance of the training data:\n",
      "\n",
      "Mean squared error: 10721.086532992764\n",
      "Mean absolute error: 40.832849375534174\n",
      "R2: 0.4143493815442175\n",
      "\n",
      "The performance of the test data:\n",
      "\n",
      "Mean squared error: 12218.081733414641\n",
      "Mean absolute error: 43.18359381843705\n",
      "R2: 0.2627491237294506\n",
      "----------------------------------------------------\n",
      "Model: Ridge\n",
      "\n",
      "The performance of the training data:\n",
      "\n",
      "Mean squared error: 6867.529033878217\n",
      "Mean absolute error: 32.92062731234821\n",
      "R2: 0.6248540095654748\n",
      "\n",
      "The performance of the test data:\n",
      "\n",
      "Mean squared error: 10867.01908121575\n",
      "Mean absolute error: 39.34570147965064\n",
      "R2: 0.34427355170130924\n",
      "----------------------------------------------------\n",
      "Model: RandomForestRegressor\n",
      "\n",
      "The performance of the training data:\n",
      "\n",
      "Mean squared error: 84.46727889975516\n",
      "Mean absolute error: 1.0386941370146747\n",
      "R2: 0.9953858861250037\n",
      "\n",
      "The performance of the test data:\n",
      "\n",
      "Mean squared error: 903.9130027041796\n",
      "Mean absolute error: 2.823939276432772\n",
      "R2: 0.9454570146233786\n",
      "----------------------------------------------------\n",
      "Model: AdaBoostRegressor\n",
      "\n",
      "The performance of the training data:\n",
      "\n",
      "Mean squared error: 6140.885474985983\n",
      "Mean absolute error: 73.90978499445394\n",
      "R2: 0.664547677586206\n",
      "\n",
      "The performance of the test data:\n",
      "\n",
      "Mean squared error: 7287.853755495261\n",
      "Mean absolute error: 74.75700154241567\n",
      "R2: 0.5602438513178217\n",
      "----------------------------------------------------\n",
      "Model: DecisionTreeRegressor\n",
      "\n",
      "The performance of the training data:\n",
      "\n",
      "Mean squared error: 0.0021200930105320748\n",
      "Mean absolute error: 0.0007522910682533187\n",
      "R2: 0.9999998841876914\n",
      "\n",
      "The performance of the test data:\n",
      "\n",
      "Mean squared error: 1067.659204888752\n",
      "Mean absolute error: 4.052027766379429\n",
      "R2: 0.9355764103124421\n",
      "----------------------------------------------------\n",
      "Model: KNeighborsRegressor\n",
      "\n",
      "The performance of the training data:\n",
      "\n",
      "Mean squared error: 2864.846400184038\n",
      "Mean absolute error: 18.923124743537137\n",
      "R2: 0.8435047547759834\n",
      "\n",
      "The performance of the test data:\n",
      "\n",
      "Mean squared error: 4292.801142220353\n",
      "Mean absolute error: 23.52366803446861\n",
      "R2: 0.7409682245698426\n",
      "----------------------------------------------------\n",
      "Model: XGBRegressor\n",
      "\n",
      "The performance of the training data:\n",
      "\n",
      "Mean squared error: 24.659887084561937\n",
      "Mean absolute error: 2.526044118331014\n",
      "R2: 0.9986529277533877\n",
      "\n",
      "The performance of the test data:\n",
      "\n",
      "Mean squared error: 901.3817977719197\n",
      "Mean absolute error: 5.0582892426986605\n",
      "R2: 0.9456097499786533\n",
      "----------------------------------------------------\n"
     ]
    }
   ],
   "source": [
    "from sklearn.impute import SimpleImputer\n",
    "\n",
    "# Define your models\n",
    "models = {\n",
    "    'LinearRegression': LinearRegression(),\n",
    "    'Lasso': Lasso(),\n",
    "    'Ridge': Ridge(),\n",
    "    'RandomForestRegressor': RandomForestRegressor(),\n",
    "    'AdaBoostRegressor': AdaBoostRegressor(),\n",
    "    'DecisionTreeRegressor': DecisionTreeRegressor(),\n",
    "    'KNeighborsRegressor': KNeighborsRegressor(),\n",
    "    'XGBRegressor': XGBRegressor(),\n",
    "}\n",
    "\n",
    "# Impute missing values in X_train and X_test\n",
    "imputer = SimpleImputer(strategy='mean')\n",
    "x_train_imputed = imputer.fit_transform(x_train)\n",
    "x_test_imputed = imputer.transform(x_test)\n",
    "\n",
    "model_list = []\n",
    "evaluation_results = []\n",
    "\n",
    "for model_name, model in models.items():\n",
    "    model.fit(x_train_imputed, y_train)\n",
    "    \n",
    "    y_train_predict = model.predict(x_train_imputed)\n",
    "    y_test_predict = model.predict(x_test_imputed)\n",
    "    \n",
    "    train_mse, train_mae, train_r2 = evauate(y_train, y_train_predict)\n",
    "    test_mse, test_mae, test_r2 = evauate(y_test, y_test_predict)\n",
    "    \n",
    "    model_list.append(model)\n",
    "    evaluation_results.append({\n",
    "        'model_name': model_name,\n",
    "        'train_mse': train_mse,\n",
    "        'train_mae': train_mae,\n",
    "        'train_r2': train_r2,\n",
    "        'test_mse': test_mse,\n",
    "        'test_mae': test_mae,\n",
    "        'test_r2': test_r2\n",
    "    })\n",
    "\n",
    "# Print the results\n",
    "for result in evaluation_results:\n",
    "    print(f\"Model: {result['model_name']}\\n\")\n",
    "    print(\"The performance of the training data:\\n\")\n",
    "    print(f\"Mean squared error: {result['train_mse']}\\nMean absolute error: {result['train_mae']}\\nR2: {result['train_r2']}\\n\")\n",
    "    print(\"The performance of the test data:\\n\")\n",
    "    print(f\"Mean squared error: {result['test_mse']}\\nMean absolute error: {result['test_mae']}\\nR2: {result['test_r2']}\")\n",
    "    print(\"----------------------------------------------------\")\n"
   ]
  },
  {
   "cell_type": "code",
   "execution_count": 14,
   "metadata": {},
   "outputs": [
    {
     "data": {
      "text/html": [
       "<div>\n",
       "<style scoped>\n",
       "    .dataframe tbody tr th:only-of-type {\n",
       "        vertical-align: middle;\n",
       "    }\n",
       "\n",
       "    .dataframe tbody tr th {\n",
       "        vertical-align: top;\n",
       "    }\n",
       "\n",
       "    .dataframe thead th {\n",
       "        text-align: right;\n",
       "    }\n",
       "</style>\n",
       "<table border=\"1\" class=\"dataframe\">\n",
       "  <thead>\n",
       "    <tr style=\"text-align: right;\">\n",
       "      <th></th>\n",
       "      <th>model_name</th>\n",
       "      <th>train_mse</th>\n",
       "      <th>train_mae</th>\n",
       "      <th>train_r2</th>\n",
       "      <th>test_mse</th>\n",
       "      <th>test_mae</th>\n",
       "      <th>test_r2</th>\n",
       "    </tr>\n",
       "  </thead>\n",
       "  <tbody>\n",
       "    <tr>\n",
       "      <th>7</th>\n",
       "      <td>XGBRegressor</td>\n",
       "      <td>24.659887</td>\n",
       "      <td>2.526044</td>\n",
       "      <td>0.998653</td>\n",
       "      <td>901.381798</td>\n",
       "      <td>5.058289</td>\n",
       "      <td>0.945610</td>\n",
       "    </tr>\n",
       "    <tr>\n",
       "      <th>3</th>\n",
       "      <td>RandomForestRegressor</td>\n",
       "      <td>84.467279</td>\n",
       "      <td>1.038694</td>\n",
       "      <td>0.995386</td>\n",
       "      <td>903.913003</td>\n",
       "      <td>2.823939</td>\n",
       "      <td>0.945457</td>\n",
       "    </tr>\n",
       "    <tr>\n",
       "      <th>5</th>\n",
       "      <td>DecisionTreeRegressor</td>\n",
       "      <td>0.002120</td>\n",
       "      <td>0.000752</td>\n",
       "      <td>1.000000</td>\n",
       "      <td>1067.659205</td>\n",
       "      <td>4.052028</td>\n",
       "      <td>0.935576</td>\n",
       "    </tr>\n",
       "    <tr>\n",
       "      <th>6</th>\n",
       "      <td>KNeighborsRegressor</td>\n",
       "      <td>2864.846400</td>\n",
       "      <td>18.923125</td>\n",
       "      <td>0.843505</td>\n",
       "      <td>4292.801142</td>\n",
       "      <td>23.523668</td>\n",
       "      <td>0.740968</td>\n",
       "    </tr>\n",
       "    <tr>\n",
       "      <th>4</th>\n",
       "      <td>AdaBoostRegressor</td>\n",
       "      <td>6140.885475</td>\n",
       "      <td>73.909785</td>\n",
       "      <td>0.664548</td>\n",
       "      <td>7287.853755</td>\n",
       "      <td>74.757002</td>\n",
       "      <td>0.560244</td>\n",
       "    </tr>\n",
       "    <tr>\n",
       "      <th>2</th>\n",
       "      <td>Ridge</td>\n",
       "      <td>6867.529034</td>\n",
       "      <td>32.920627</td>\n",
       "      <td>0.624854</td>\n",
       "      <td>10867.019081</td>\n",
       "      <td>39.345701</td>\n",
       "      <td>0.344274</td>\n",
       "    </tr>\n",
       "    <tr>\n",
       "      <th>0</th>\n",
       "      <td>LinearRegression</td>\n",
       "      <td>6607.742739</td>\n",
       "      <td>31.632706</td>\n",
       "      <td>0.639045</td>\n",
       "      <td>11222.039912</td>\n",
       "      <td>40.425276</td>\n",
       "      <td>0.322851</td>\n",
       "    </tr>\n",
       "    <tr>\n",
       "      <th>1</th>\n",
       "      <td>Lasso</td>\n",
       "      <td>10721.086533</td>\n",
       "      <td>40.832849</td>\n",
       "      <td>0.414349</td>\n",
       "      <td>12218.081733</td>\n",
       "      <td>43.183594</td>\n",
       "      <td>0.262749</td>\n",
       "    </tr>\n",
       "  </tbody>\n",
       "</table>\n",
       "</div>"
      ],
      "text/plain": [
       "              model_name     train_mse  train_mae  train_r2      test_mse  \\\n",
       "7           XGBRegressor     24.659887   2.526044  0.998653    901.381798   \n",
       "3  RandomForestRegressor     84.467279   1.038694  0.995386    903.913003   \n",
       "5  DecisionTreeRegressor      0.002120   0.000752  1.000000   1067.659205   \n",
       "6    KNeighborsRegressor   2864.846400  18.923125  0.843505   4292.801142   \n",
       "4      AdaBoostRegressor   6140.885475  73.909785  0.664548   7287.853755   \n",
       "2                  Ridge   6867.529034  32.920627  0.624854  10867.019081   \n",
       "0       LinearRegression   6607.742739  31.632706  0.639045  11222.039912   \n",
       "1                  Lasso  10721.086533  40.832849  0.414349  12218.081733   \n",
       "\n",
       "    test_mae   test_r2  \n",
       "7   5.058289  0.945610  \n",
       "3   2.823939  0.945457  \n",
       "5   4.052028  0.935576  \n",
       "6  23.523668  0.740968  \n",
       "4  74.757002  0.560244  \n",
       "2  39.345701  0.344274  \n",
       "0  40.425276  0.322851  \n",
       "1  43.183594  0.262749  "
      ]
     },
     "execution_count": 14,
     "metadata": {},
     "output_type": "execute_result"
    }
   ],
   "source": [
    "# Convert evaluation results into a DataFrame\n",
    "df_results = pd.DataFrame(evaluation_results)\n",
    "# Sort the DataFrame by 'test_r2' in descending order\n",
    "df_results.sort_values(by='test_r2', ascending=False)"
   ]
  },
  {
   "cell_type": "code",
   "execution_count": 15,
   "metadata": {},
   "outputs": [
    {
     "ename": "NameError",
     "evalue": "name 'predict' is not defined",
     "output_type": "error",
     "traceback": [
      "\u001b[1;31m---------------------------------------------------------------------------\u001b[0m",
      "\u001b[1;31mNameError\u001b[0m                                 Traceback (most recent call last)",
      "Cell \u001b[1;32mIn[15], line 1\u001b[0m\n\u001b[1;32m----> 1\u001b[0m \u001b[43mpredict\u001b[49m\n",
      "\u001b[1;31mNameError\u001b[0m: name 'predict' is not defined"
     ]
    }
   ],
   "source": [
    "predict"
   ]
  }
 ],
 "metadata": {
  "kernelspec": {
   "display_name": "Python 3",
   "language": "python",
   "name": "python3"
  },
  "language_info": {
   "codemirror_mode": {
    "name": "ipython",
    "version": 3
   },
   "file_extension": ".py",
   "mimetype": "text/x-python",
   "name": "python",
   "nbconvert_exporter": "python",
   "pygments_lexer": "ipython3",
   "version": "3.8.19"
  }
 },
 "nbformat": 4,
 "nbformat_minor": 2
}
